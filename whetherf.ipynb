{
 "cells": [
  {
   "cell_type": "code",
   "execution_count": 1,
   "id": "6036d7f2",
   "metadata": {},
   "outputs": [],
   "source": [
    "import requests\n",
    "import json"
   ]
  },
  {
   "cell_type": "code",
   "execution_count": 3,
   "id": "237af0fa",
   "metadata": {},
   "outputs": [
    {
     "name": "stdout",
     "output_type": "stream",
     "text": [
      "current whether condition: Clouds\n",
      "current temperature: 30.06°C.\n",
      "temperature feels like: 33.79°C.\n",
      "Humidity: 64%.\n"
     ]
    }
   ],
   "source": [
    "state=\"rajasthan\"\n",
    "city=\"jaipur\" \n",
    "\n",
    "api_key = \"3bc8c13b237018dc375fadb68d50674a\"\n",
    "url=f\"https://api.openweathermap.org/data/2.5/weather?q={city},{state}&APPID={api_key}&units=metric\"\n",
    "\n",
    "response=requests.get(url)\n",
    "if response.status_code == 200:\n",
    "   data= response.json()\n",
    "   print(f\"current whether condition: {data['weather'][0]['main']}\")\n",
    "   print(f\"current temperature: {data['main']['temp']}°C.\")\n",
    "   print(f\"temperature feels like: {data['main']['feels_like']}°C.\")\n",
    "   print(f\"Humidity: {data['main']['humidity']}%.\")\n",
    "else:\n",
    "   print(\"Error occured\")"
   ]
  },
  {
   "cell_type": "code",
   "execution_count": null,
   "id": "bd9c53e0",
   "metadata": {},
   "outputs": [],
   "source": []
  }
 ],
 "metadata": {
  "kernelspec": {
   "display_name": "base",
   "language": "python",
   "name": "python3"
  },
  "language_info": {
   "codemirror_mode": {
    "name": "ipython",
    "version": 3
   },
   "file_extension": ".py",
   "mimetype": "text/x-python",
   "name": "python",
   "nbconvert_exporter": "python",
   "pygments_lexer": "ipython3",
   "version": "3.12.7"
  }
 },
 "nbformat": 4,
 "nbformat_minor": 5
}
